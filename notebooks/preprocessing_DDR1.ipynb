{
 "cells": [
  {
   "cell_type": "code",
   "execution_count": 2,
   "metadata": {},
   "outputs": [],
   "source": [
    "#Import libraries\n",
    "import pandas as pd\n",
    "from rdkit import Chem\n"
   ]
  },
  {
   "cell_type": "code",
   "execution_count": 3,
   "metadata": {},
   "outputs": [],
   "source": [
    "# Load dataset using pandas functionality\n",
    "ddr1_data = pd.read_parquet('../data/ddr1_1M.parquet')"
   ]
  },
  {
   "cell_type": "code",
   "execution_count": 4,
   "metadata": {},
   "outputs": [
    {
     "data": {
      "text/plain": [
       "Index(['smiles', 'molecule_hash', 'smiles_a', 'smiles_b', 'smiles_c',\n",
       "       'seq_target_1', 'seq_target_2', 'seq_target_3', 'seq_matrix_1',\n",
       "       'seq_matrix_2', 'seq_matrix_3', 'seq_load', 'target_enrichment'],\n",
       "      dtype='object')"
      ]
     },
     "execution_count": 4,
     "metadata": {},
     "output_type": "execute_result"
    }
   ],
   "source": [
    "# Check columns in the dataframe\n",
    "ddr1_data.columns"
   ]
  },
  {
   "cell_type": "code",
   "execution_count": 5,
   "metadata": {},
   "outputs": [
    {
     "data": {
      "text/plain": [
       "pandas.core.series.Series"
      ]
     },
     "execution_count": 5,
     "metadata": {},
     "output_type": "execute_result"
    }
   ],
   "source": [
    "# Extract smiles column\n",
    "smiles = ddr1_data['smiles']\n",
    "\n",
    "#Check type to verify is a string\n",
    "type(smiles)"
   ]
  },
  {
   "cell_type": "code",
   "execution_count": 6,
   "metadata": {},
   "outputs": [
    {
     "name": "stdout",
     "output_type": "stream",
     "text": [
      "CNC(=O)[C@H](CNC(=O)c1ccccc1CNC(=O)c1ccc(-c2noc(C)n2)cc1)NC(=O)c1ccc2[nH]ccc2c1\n"
     ]
    }
   ],
   "source": [
    "print(smiles[0])"
   ]
  },
  {
   "cell_type": "code",
   "execution_count": 7,
   "metadata": {},
   "outputs": [],
   "source": [
    "from rdkit.Chem import Draw\n",
    "#Check if first small molecule can be drawn from smiles identifier\n",
    "m = Chem.MolFromSmiles('CNC(=O)[C@H](CC1CCCCC1)NC(=O)c1ccccc1CNC(=O)CCc1ccccc1C')\n",
    "img = Draw.MolToImage(m)"
   ]
  },
  {
   "cell_type": "code",
   "execution_count": 8,
   "metadata": {},
   "outputs": [
    {
     "data": {
      "image/jpeg": "[encoded data removed]",
      "image/png": "[encoded data removed]",
      "text/plain": [
       "<PIL.PngImagePlugin.PngImageFile image mode=RGB size=300x300>"
      ]
     },
     "execution_count": 8,
     "metadata": {},
     "output_type": "execute_result"
    }
   ],
   "source": [
    "img"
   ]
  },
  {
   "cell_type": "code",
   "execution_count": 9,
   "metadata": {},
   "outputs": [],
   "source": [
    "\n",
    "# Standardize to canonical SMILES\n",
    "def to_canonical(smiles):\n",
    "    try:\n",
    "        mol = Chem.MolFromSmiles(smiles)\n",
    "        if mol:\n",
    "            return Chem.MolToSmiles(mol, canonical=True)\n",
    "        return None\n",
    "    except Exception as e:\n",
    "        print(f\"Error processing SMILES: {smiles}, Error: {e}\")\n",
    "        return None\n",
    "\n",
    "ddr1_data['canonical_smiles'] = smiles.apply(to_canonical)\n"
   ]
  },
  {
   "cell_type": "code",
   "execution_count": 10,
   "metadata": {},
   "outputs": [
    {
     "data": {
      "text/plain": [
       "0         CNC(=O)[C@H](CNC(=O)c1ccccc1CNC(=O)c1ccc(-c2no...\n",
       "1         CNC(=O)[C@H](CCc1ccccc1)NC(=O)CN1C(=O)[C@@H](N...\n",
       "2         CNC(=O)c1sc(C2CCN(C(=O)[C@H](CC3CCCCC3)NCc3csc...\n",
       "3         CNC(=O)c1cccc(CNC(=O)[C@H](CC2CCCCC2)NC(=O)c2c...\n",
       "4         CNC(=O)[C@@H](CNC(=O)C1CN(C(=O)CCOC)CCO1)NC(=O...\n",
       "                                ...                        \n",
       "999995    CNC(=O)[C@H](CCNC(=O)[C@H](COCc1ccccc1)NC(=O)c...\n",
       "999996    CNC(=O)[C@H](CNC(=O)[C@@H](NC(=O)c1ccc(C)cc1C(...\n",
       "999997    CNC(=O)[C@@H]1C[C@H](NC(=O)c2cn(C)cn2)CN1C(=O)...\n",
       "999998    CNC(=O)[C@@H]1C[C@H](NC(=O)C(C)C)CN1C(=O)[C@@H...\n",
       "999999    CNC(=O)[C@H](CCc1ccccc1)NC(=O)[C@H]1CCN(C(=O)C...\n",
       "Name: canonical_smiles, Length: 1000000, dtype: object"
      ]
     },
     "execution_count": 10,
     "metadata": {},
     "output_type": "execute_result"
    }
   ],
   "source": [
    "ddr1_data['canonical_smiles']"
   ]
  },
  {
   "cell_type": "code",
   "execution_count": 11,
   "metadata": {},
   "outputs": [
    {
     "data": {
      "text/plain": [
       "Index(['smiles', 'molecule_hash', 'smiles_a', 'smiles_b', 'smiles_c',\n",
       "       'seq_target_1', 'seq_target_2', 'seq_target_3', 'seq_matrix_1',\n",
       "       'seq_matrix_2', 'seq_matrix_3', 'seq_load', 'target_enrichment',\n",
       "       'canonical_smiles'],\n",
       "      dtype='object')"
      ]
     },
     "execution_count": 11,
     "metadata": {},
     "output_type": "execute_result"
    }
   ],
   "source": [
    "ddr1_data.columns"
   ]
  },
  {
   "cell_type": "code",
   "execution_count": 12,
   "metadata": {},
   "outputs": [],
   "source": [
    "canonical_smiles = ddr1_data['canonical_smiles']"
   ]
  },
  {
   "cell_type": "code",
   "execution_count": 13,
   "metadata": {},
   "outputs": [
    {
     "name": "stdout",
     "output_type": "stream",
     "text": [
      "CNC(=O)[C@H](CNC(=O)c1ccccc1CNC(=O)c1ccc(-c2noc(C)n2)cc1)NC(=O)c1ccc2[nH]ccc2c1\n"
     ]
    }
   ],
   "source": [
    "print(canonical_smiles[0])"
   ]
  },
  {
   "cell_type": "code",
   "execution_count": 14,
   "metadata": {},
   "outputs": [
    {
     "data": {
      "text/plain": [
       "True"
      ]
     },
     "execution_count": 14,
     "metadata": {},
     "output_type": "execute_result"
    }
   ],
   "source": [
    "smiles[0]==canonical_smiles[0]"
   ]
  },
  {
   "cell_type": "code",
   "execution_count": 15,
   "metadata": {},
   "outputs": [
    {
     "name": "stdout",
     "output_type": "stream",
     "text": [
      "Number of descriptors: 209\n",
      "['MaxAbsEStateIndex', 'MaxEStateIndex', 'MinAbsEStateIndex', 'MinEStateIndex', 'qed', 'MolWt', 'HeavyAtomMolWt', 'ExactMolWt', 'NumValenceElectrons', 'NumRadicalElectrons', 'MaxPartialCharge', 'MinPartialCharge', 'MaxAbsPartialCharge', 'MinAbsPartialCharge', 'FpDensityMorgan1', 'FpDensityMorgan2', 'FpDensityMorgan3', 'BCUT2D_MWHI', 'BCUT2D_MWLOW', 'BCUT2D_CHGHI', 'BCUT2D_CHGLO', 'BCUT2D_LOGPHI', 'BCUT2D_LOGPLOW', 'BCUT2D_MRHI', 'BCUT2D_MRLOW', 'AvgIpc', 'BalabanJ', 'BertzCT', 'Chi0', 'Chi0n', 'Chi0v', 'Chi1', 'Chi1n', 'Chi1v', 'Chi2n', 'Chi2v', 'Chi3n', 'Chi3v', 'Chi4n', 'Chi4v', 'HallKierAlpha', 'Ipc', 'Kappa1', 'Kappa2', 'Kappa3', 'LabuteASA', 'PEOE_VSA1', 'PEOE_VSA10', 'PEOE_VSA11', 'PEOE_VSA12', 'PEOE_VSA13', 'PEOE_VSA14', 'PEOE_VSA2', 'PEOE_VSA3', 'PEOE_VSA4', 'PEOE_VSA5', 'PEOE_VSA6', 'PEOE_VSA7', 'PEOE_VSA8', 'PEOE_VSA9', 'SMR_VSA1', 'SMR_VSA10', 'SMR_VSA2', 'SMR_VSA3', 'SMR_VSA4', 'SMR_VSA5', 'SMR_VSA6', 'SMR_VSA7', 'SMR_VSA8', 'SMR_VSA9', 'SlogP_VSA1', 'SlogP_VSA10', 'SlogP_VSA11', 'SlogP_VSA12', 'SlogP_VSA2', 'SlogP_VSA3', 'SlogP_VSA4', 'SlogP_VSA5', 'SlogP_VSA6', 'SlogP_VSA7', 'SlogP_VSA8', 'SlogP_VSA9', 'TPSA', 'EState_VSA1', 'EState_VSA10', 'EState_VSA11', 'EState_VSA2', 'EState_VSA3', 'EState_VSA4', 'EState_VSA5', 'EState_VSA6', 'EState_VSA7', 'EState_VSA8', 'EState_VSA9', 'VSA_EState1', 'VSA_EState10', 'VSA_EState2', 'VSA_EState3', 'VSA_EState4', 'VSA_EState5', 'VSA_EState6', 'VSA_EState7', 'VSA_EState8', 'VSA_EState9', 'FractionCSP3', 'HeavyAtomCount', 'NHOHCount', 'NOCount', 'NumAliphaticCarbocycles', 'NumAliphaticHeterocycles', 'NumAliphaticRings', 'NumAromaticCarbocycles', 'NumAromaticHeterocycles', 'NumAromaticRings', 'NumHAcceptors', 'NumHDonors', 'NumHeteroatoms', 'NumRotatableBonds', 'NumSaturatedCarbocycles', 'NumSaturatedHeterocycles', 'NumSaturatedRings', 'RingCount', 'MolLogP', 'MolMR', 'fr_Al_COO', 'fr_Al_OH', 'fr_Al_OH_noTert', 'fr_ArN', 'fr_Ar_COO', 'fr_Ar_N', 'fr_Ar_NH', 'fr_Ar_OH', 'fr_COO', 'fr_COO2', 'fr_C_O', 'fr_C_O_noCOO', 'fr_C_S', 'fr_HOCCN', 'fr_Imine', 'fr_NH0', 'fr_NH1', 'fr_NH2', 'fr_N_O', 'fr_Ndealkylation1', 'fr_Ndealkylation2', 'fr_Nhpyrrole', 'fr_SH', 'fr_aldehyde', 'fr_alkyl_carbamate', 'fr_alkyl_halide', 'fr_allylic_oxid', 'fr_amide', 'fr_amidine', 'fr_aniline', 'fr_aryl_methyl', 'fr_azide', 'fr_azo', 'fr_barbitur', 'fr_benzene', 'fr_benzodiazepine', 'fr_bicyclic', 'fr_diazo', 'fr_dihydropyridine', 'fr_epoxide', 'fr_ester', 'fr_ether', 'fr_furan', 'fr_guanido', 'fr_halogen', 'fr_hdrzine', 'fr_hdrzone', 'fr_imidazole', 'fr_imide', 'fr_isocyan', 'fr_isothiocyan', 'fr_ketone', 'fr_ketone_Topliss', 'fr_lactam', 'fr_lactone', 'fr_methoxy', 'fr_morpholine', 'fr_nitrile', 'fr_nitro', 'fr_nitro_arom', 'fr_nitro_arom_nonortho', 'fr_nitroso', 'fr_oxazole', 'fr_oxime', 'fr_para_hydroxylation', 'fr_phenol', 'fr_phenol_noOrthoHbond', 'fr_phos_acid', 'fr_phos_ester', 'fr_piperdine', 'fr_piperzine', 'fr_priamide', 'fr_prisulfonamd', 'fr_pyridine', 'fr_quatN', 'fr_sulfide', 'fr_sulfonamd', 'fr_sulfone', 'fr_term_acetylene', 'fr_tetrazole', 'fr_thiazole', 'fr_thiocyan', 'fr_thiophene', 'fr_unbrch_alkane', 'fr_urea']\n"
     ]
    }
   ],
   "source": [
    "from rdkit.Chem import Descriptors\n",
    "\n",
    "# List all available descriptor names\n",
    "all_descriptors = [desc[0] for desc in Descriptors.descList]\n",
    "print(f\"Number of descriptors: {len(all_descriptors)}\")\n",
    "print(all_descriptors)\n"
   ]
  },
  {
   "cell_type": "code",
   "execution_count": 16,
   "metadata": {},
   "outputs": [],
   "source": [
    "# df with canonical smiles is the same as smiles from original dataset\n",
    "#Generate Molecular Descriptors\n",
    "def calculate_descriptors(smiles):\n",
    "    mol = Chem.MolFromSmiles(smiles)\n",
    "    if mol:\n",
    "        return {\n",
    "            'MolWt': Descriptors.MolWt(mol),\n",
    "            'LogP': Descriptors.MolLogP(mol),\n",
    "            'TPSA': Descriptors.TPSA(mol),\n",
    "            'NumHDonors': Descriptors.NumHDonors(mol),\n",
    "            'NumHAcceptors': Descriptors.NumHAcceptors(mol)\n",
    "        }\n",
    "    return None\n",
    "\n",
    "\n",
    "\n",
    "# Apply descriptor calculation\n",
    "descriptors = ddr1_data['canonical_smiles'].apply(calculate_descriptors)\n",
    "\n",
    "# Convert descriptors into a DataFrame\n",
    "descriptors_df = pd.DataFrame(descriptors.tolist())\n"
   ]
  },
  {
   "cell_type": "code",
   "execution_count": 17,
   "metadata": {},
   "outputs": [
    {
     "data": {
      "text/plain": [
       "0         CNC(=O)[C@H](CNC(=O)c1ccccc1CNC(=O)c1ccc(-c2no...\n",
       "1         CNC(=O)[C@H](CCc1ccccc1)NC(=O)CN1C(=O)[C@@H](N...\n",
       "2         CNC(=O)c1sc(C2CCN(C(=O)[C@H](CC3CCCCC3)NCc3csc...\n",
       "3         CNC(=O)c1cccc(CNC(=O)[C@H](CC2CCCCC2)NC(=O)c2c...\n",
       "4         CNC(=O)[C@@H](CNC(=O)C1CN(C(=O)CCOC)CCO1)NC(=O...\n",
       "                                ...                        \n",
       "999995    CNC(=O)[C@H](CCNC(=O)[C@H](COCc1ccccc1)NC(=O)c...\n",
       "999996    CNC(=O)[C@H](CNC(=O)[C@@H](NC(=O)c1ccc(C)cc1C(...\n",
       "999997    CNC(=O)[C@@H]1C[C@H](NC(=O)c2cn(C)cn2)CN1C(=O)...\n",
       "999998    CNC(=O)[C@@H]1C[C@H](NC(=O)C(C)C)CN1C(=O)[C@@H...\n",
       "999999    CNC(=O)[C@H](CCc1ccccc1)NC(=O)[C@H]1CCN(C(=O)C...\n",
       "Name: canonical_smiles, Length: 1000000, dtype: object"
      ]
     },
     "execution_count": 17,
     "metadata": {},
     "output_type": "execute_result"
    }
   ],
   "source": [
    "canonical_smiles"
   ]
  },
  {
   "cell_type": "code",
   "execution_count": 18,
   "metadata": {},
   "outputs": [
    {
     "data": {
      "text/plain": [
       "(1000000, 5)"
      ]
     },
     "execution_count": 18,
     "metadata": {},
     "output_type": "execute_result"
    }
   ],
   "source": [
    "descriptors_df.shape"
   ]
  },
  {
   "cell_type": "code",
   "execution_count": 19,
   "metadata": {},
   "outputs": [],
   "source": [
    "# Combine with original DataFrame\n",
    "ddr1_data = pd.concat([ddr1_data.reset_index(drop=True), descriptors_df], axis=1)\n"
   ]
  },
  {
   "cell_type": "code",
   "execution_count": 20,
   "metadata": {},
   "outputs": [
    {
     "data": {
      "text/html": [
       "<div>\n",
       "<style scoped>\n",
       "    .dataframe tbody tr th:only-of-type {\n",
       "        vertical-align: middle;\n",
       "    }\n",
       "\n",
       "    .dataframe tbody tr th {\n",
       "        vertical-align: top;\n",
       "    }\n",
       "\n",
       "    .dataframe thead th {\n",
       "        text-align: right;\n",
       "    }\n",
       "</style>\n",
       "<table border=\"1\" class=\"dataframe\">\n",
       "  <thead>\n",
       "    <tr style=\"text-align: right;\">\n",
       "      <th></th>\n",
       "      <th>smiles</th>\n",
       "      <th>molecule_hash</th>\n",
       "      <th>smiles_a</th>\n",
       "      <th>smiles_b</th>\n",
       "      <th>smiles_c</th>\n",
       "      <th>seq_target_1</th>\n",
       "      <th>seq_target_2</th>\n",
       "      <th>seq_target_3</th>\n",
       "      <th>seq_matrix_1</th>\n",
       "      <th>seq_matrix_2</th>\n",
       "      <th>seq_matrix_3</th>\n",
       "      <th>seq_load</th>\n",
       "      <th>target_enrichment</th>\n",
       "      <th>canonical_smiles</th>\n",
       "      <th>MolWt</th>\n",
       "      <th>LogP</th>\n",
       "      <th>TPSA</th>\n",
       "      <th>NumHDonors</th>\n",
       "      <th>NumHAcceptors</th>\n",
       "    </tr>\n",
       "  </thead>\n",
       "  <tbody>\n",
       "    <tr>\n",
       "      <th>0</th>\n",
       "      <td>CNC(=O)[C@H](CNC(=O)c1ccccc1CNC(=O)c1ccc(-c2no...</td>\n",
       "      <td>33531ebf0be8ba2787e85a03221df1b41a0512eaf09b1a...</td>\n",
       "      <td>CNC(=O)[C@H](CN)NC(=O)c1ccc2[nH]ccc2c1</td>\n",
       "      <td>CC1=NC(=NO1)C1=CC=C(C=C1)C(O)=O</td>\n",
       "      <td>OC(=O)c1ccccc1CNC(=O)OCC1c2ccccc2-c2ccccc12</td>\n",
       "      <td>1.0</td>\n",
       "      <td>6.0</td>\n",
       "      <td>2.0</td>\n",
       "      <td>0.0</td>\n",
       "      <td>4.0</td>\n",
       "      <td>1.0</td>\n",
       "      <td>19</td>\n",
       "      <td>0.352696</td>\n",
       "      <td>CNC(=O)[C@H](CNC(=O)c1ccccc1CNC(=O)c1ccc(-c2no...</td>\n",
       "      <td>579.617</td>\n",
       "      <td>2.73072</td>\n",
       "      <td>171.11</td>\n",
       "      <td>5</td>\n",
       "      <td>7</td>\n",
       "    </tr>\n",
       "    <tr>\n",
       "      <th>1</th>\n",
       "      <td>CNC(=O)[C@H](CCc1ccccc1)NC(=O)CN1C(=O)[C@@H](N...</td>\n",
       "      <td>519cddc9ad4ab8538ced2bcfbb17e034240c68b9cd52c4...</td>\n",
       "      <td>CNC(=O)[C@@H](N)CCc1ccccc1</td>\n",
       "      <td>OC(=O)CC1=CC(Cl)=C(O)C=C1</td>\n",
       "      <td>OC(=O)CN1c2ccccc2OC[C@H](NC(=O)OCC2c3ccccc3-c3...</td>\n",
       "      <td>5.0</td>\n",
       "      <td>9.0</td>\n",
       "      <td>7.0</td>\n",
       "      <td>1.0</td>\n",
       "      <td>1.0</td>\n",
       "      <td>1.0</td>\n",
       "      <td>12</td>\n",
       "      <td>1.482711</td>\n",
       "      <td>CNC(=O)[C@H](CCc1ccccc1)NC(=O)CN1C(=O)[C@@H](N...</td>\n",
       "      <td>579.053</td>\n",
       "      <td>2.36210</td>\n",
       "      <td>137.07</td>\n",
       "      <td>4</td>\n",
       "      <td>6</td>\n",
       "    </tr>\n",
       "    <tr>\n",
       "      <th>2</th>\n",
       "      <td>CNC(=O)c1sc(C2CCN(C(=O)[C@H](CC3CCCCC3)NCc3csc...</td>\n",
       "      <td>d385e4289ecf6fcce902738ee8ea9ab32c43c31107cc9c...</td>\n",
       "      <td>CNC(=O)c1sc(C2CCNCC2)nc1C</td>\n",
       "      <td>BrC1=NC(C=O)=CS1</td>\n",
       "      <td>OC(=O)[C@H](CC1CCCCC1)NC(=O)OCC1c2ccccc2-c2ccc...</td>\n",
       "      <td>1.0</td>\n",
       "      <td>2.0</td>\n",
       "      <td>2.0</td>\n",
       "      <td>0.0</td>\n",
       "      <td>0.0</td>\n",
       "      <td>0.0</td>\n",
       "      <td>7</td>\n",
       "      <td>0.440103</td>\n",
       "      <td>CNC(=O)c1sc(C2CCN(C(=O)[C@H](CC3CCCCC3)NCc3csc...</td>\n",
       "      <td>568.607</td>\n",
       "      <td>4.86492</td>\n",
       "      <td>87.22</td>\n",
       "      <td>2</td>\n",
       "      <td>7</td>\n",
       "    </tr>\n",
       "    <tr>\n",
       "      <th>3</th>\n",
       "      <td>CNC(=O)c1cccc(CNC(=O)[C@H](CC2CCCCC2)NC(=O)c2c...</td>\n",
       "      <td>96075c4092ecbba0786c42c576606e70b25d72bcccdc82...</td>\n",
       "      <td>CNC(=O)c1cccc(CN)c1</td>\n",
       "      <td>CN(C)C1=CC=CC(=C1)C(O)=O</td>\n",
       "      <td>OC(=O)[C@H](CC1CCCCC1)NC(=O)OCC1c2ccccc2-c2ccc...</td>\n",
       "      <td>2.0</td>\n",
       "      <td>2.0</td>\n",
       "      <td>4.0</td>\n",
       "      <td>1.0</td>\n",
       "      <td>3.0</td>\n",
       "      <td>0.0</td>\n",
       "      <td>19</td>\n",
       "      <td>0.337236</td>\n",
       "      <td>CNC(=O)c1cccc(CNC(=O)[C@H](CC2CCCCC2)NC(=O)c2c...</td>\n",
       "      <td>464.610</td>\n",
       "      <td>3.49740</td>\n",
       "      <td>90.54</td>\n",
       "      <td>3</td>\n",
       "      <td>4</td>\n",
       "    </tr>\n",
       "    <tr>\n",
       "      <th>4</th>\n",
       "      <td>CNC(=O)[C@@H](CNC(=O)C1CN(C(=O)CCOC)CCO1)NC(=O...</td>\n",
       "      <td>dbb42a3997dd44957450af19bb6a4f4f1ffbdef0beafe4...</td>\n",
       "      <td>CNC(=O)[C@@H](CN)NC(=O)c1cccnc1</td>\n",
       "      <td>COCCC(O)=O</td>\n",
       "      <td>OC(=O)C1CN(CCO1)C(=O)OCC1c2ccccc2-c2ccccc12</td>\n",
       "      <td>4.0</td>\n",
       "      <td>1.0</td>\n",
       "      <td>2.0</td>\n",
       "      <td>1.0</td>\n",
       "      <td>2.0</td>\n",
       "      <td>0.0</td>\n",
       "      <td>26</td>\n",
       "      <td>0.321008</td>\n",
       "      <td>CNC(=O)[C@@H](CNC(=O)C1CN(C(=O)CCOC)CCO1)NC(=O...</td>\n",
       "      <td>421.454</td>\n",
       "      <td>-1.69390</td>\n",
       "      <td>138.96</td>\n",
       "      <td>3</td>\n",
       "      <td>7</td>\n",
       "    </tr>\n",
       "    <tr>\n",
       "      <th>...</th>\n",
       "      <td>...</td>\n",
       "      <td>...</td>\n",
       "      <td>...</td>\n",
       "      <td>...</td>\n",
       "      <td>...</td>\n",
       "      <td>...</td>\n",
       "      <td>...</td>\n",
       "      <td>...</td>\n",
       "      <td>...</td>\n",
       "      <td>...</td>\n",
       "      <td>...</td>\n",
       "      <td>...</td>\n",
       "      <td>...</td>\n",
       "      <td>...</td>\n",
       "      <td>...</td>\n",
       "      <td>...</td>\n",
       "      <td>...</td>\n",
       "      <td>...</td>\n",
       "      <td>...</td>\n",
       "    </tr>\n",
       "    <tr>\n",
       "      <th>999995</th>\n",
       "      <td>CNC(=O)[C@H](CCNC(=O)[C@H](COCc1ccccc1)NC(=O)c...</td>\n",
       "      <td>0547687f47dc15d9ed8d10df4aa30df20564515b57a616...</td>\n",
       "      <td>CNC(=O)[C@H](CCN)N1CCCCC1</td>\n",
       "      <td>CC1=CC(=CC(=C1)C(F)(F)F)C(O)=O</td>\n",
       "      <td>OC(=O)[C@H](COCc1ccccc1)NC(=O)OCC1c2ccccc2-c2c...</td>\n",
       "      <td>1.0</td>\n",
       "      <td>0.0</td>\n",
       "      <td>3.0</td>\n",
       "      <td>0.0</td>\n",
       "      <td>0.0</td>\n",
       "      <td>0.0</td>\n",
       "      <td>16</td>\n",
       "      <td>0.295446</td>\n",
       "      <td>CNC(=O)[C@H](CCNC(=O)[C@H](COCc1ccccc1)NC(=O)c...</td>\n",
       "      <td>562.633</td>\n",
       "      <td>3.43582</td>\n",
       "      <td>99.77</td>\n",
       "      <td>3</td>\n",
       "      <td>5</td>\n",
       "    </tr>\n",
       "    <tr>\n",
       "      <th>999996</th>\n",
       "      <td>CNC(=O)[C@H](CNC(=O)[C@@H](NC(=O)c1ccc(C)cc1C(...</td>\n",
       "      <td>085180dea9802b7a297c4aa646c144d9baeab62d30618c...</td>\n",
       "      <td>CNC(=O)[C@H](CN)NC(=O)c1ccn(C)n1</td>\n",
       "      <td>CC1=CC(=C(C=C1)C(O)=O)C(F)(F)F</td>\n",
       "      <td>OC(=O)[C@@H](NC(=O)OCC1c2ccccc2-c2ccccc12)c1cc...</td>\n",
       "      <td>2.0</td>\n",
       "      <td>1.0</td>\n",
       "      <td>2.0</td>\n",
       "      <td>0.0</td>\n",
       "      <td>0.0</td>\n",
       "      <td>0.0</td>\n",
       "      <td>17</td>\n",
       "      <td>0.440103</td>\n",
       "      <td>CNC(=O)[C@H](CNC(=O)[C@@H](NC(=O)c1ccc(C)cc1C(...</td>\n",
       "      <td>544.534</td>\n",
       "      <td>1.87922</td>\n",
       "      <td>134.22</td>\n",
       "      <td>4</td>\n",
       "      <td>6</td>\n",
       "    </tr>\n",
       "    <tr>\n",
       "      <th>999997</th>\n",
       "      <td>CNC(=O)[C@@H]1C[C@H](NC(=O)c2cn(C)cn2)CN1C(=O)...</td>\n",
       "      <td>447e9c511bda22e05d9828cdb66a3f8935d9c206a39fc2...</td>\n",
       "      <td>CNC(=O)[C@@H]1C[C@H](NC(=O)c2cn(C)cn2)CN1</td>\n",
       "      <td>FC1=CC(F)=C(C=O)C=C1</td>\n",
       "      <td>OC(=O)[C@@H](Cc1cccc(Cl)c1)NC(=O)OCC1c2ccccc2-...</td>\n",
       "      <td>0.0</td>\n",
       "      <td>0.0</td>\n",
       "      <td>4.0</td>\n",
       "      <td>0.0</td>\n",
       "      <td>0.0</td>\n",
       "      <td>0.0</td>\n",
       "      <td>25</td>\n",
       "      <td>0.295446</td>\n",
       "      <td>CNC(=O)[C@@H]1C[C@H](NC(=O)c2cn(C)cn2)CN1C(=O)...</td>\n",
       "      <td>559.017</td>\n",
       "      <td>2.19810</td>\n",
       "      <td>108.36</td>\n",
       "      <td>3</td>\n",
       "      <td>6</td>\n",
       "    </tr>\n",
       "    <tr>\n",
       "      <th>999998</th>\n",
       "      <td>CNC(=O)[C@@H]1C[C@H](NC(=O)C(C)C)CN1C(=O)[C@@H...</td>\n",
       "      <td>622014205c66a863bc951508335eaf2ddc4f3871f41527...</td>\n",
       "      <td>CNC(=O)[C@@H]1C[C@H](NC(=O)C(C)C)CN1</td>\n",
       "      <td>OC(=O)C1=CC=CC2=C1N=CN2</td>\n",
       "      <td>CC(C)(C)OC(=O)N1CC[C@H](C1)C(O)=O</td>\n",
       "      <td>1.0</td>\n",
       "      <td>2.0</td>\n",
       "      <td>1.0</td>\n",
       "      <td>0.0</td>\n",
       "      <td>0.0</td>\n",
       "      <td>0.0</td>\n",
       "      <td>11</td>\n",
       "      <td>0.295446</td>\n",
       "      <td>CNC(=O)[C@@H]1C[C@H](NC(=O)C(C)C)CN1C(=O)[C@@H...</td>\n",
       "      <td>454.531</td>\n",
       "      <td>0.51270</td>\n",
       "      <td>127.50</td>\n",
       "      <td>3</td>\n",
       "      <td>5</td>\n",
       "    </tr>\n",
       "    <tr>\n",
       "      <th>999999</th>\n",
       "      <td>CNC(=O)[C@H](CCc1ccccc1)NC(=O)[C@H]1CCN(C(=O)C...</td>\n",
       "      <td>957010ed4663186e31fbb759fcd1ac3ab8c074d6683c7d...</td>\n",
       "      <td>CNC(=O)[C@@H](N)CCc1ccccc1</td>\n",
       "      <td>CC(NC(=O)OCC1=CC=CC=C1)C(O)=O</td>\n",
       "      <td>CC(C)(C)OC(=O)N1CC[C@@H](C1)C(O)=O</td>\n",
       "      <td>0.0</td>\n",
       "      <td>3.0</td>\n",
       "      <td>4.0</td>\n",
       "      <td>1.0</td>\n",
       "      <td>1.0</td>\n",
       "      <td>0.0</td>\n",
       "      <td>11</td>\n",
       "      <td>0.389548</td>\n",
       "      <td>CNC(=O)[C@H](CCc1ccccc1)NC(=O)[C@H]1CCN(C(=O)C...</td>\n",
       "      <td>494.592</td>\n",
       "      <td>2.01340</td>\n",
       "      <td>116.84</td>\n",
       "      <td>3</td>\n",
       "      <td>5</td>\n",
       "    </tr>\n",
       "  </tbody>\n",
       "</table>\n",
       "<p>1000000 rows × 19 columns</p>\n",
       "</div>"
      ],
      "text/plain": [
       "                                                   smiles  \\\n",
       "0       CNC(=O)[C@H](CNC(=O)c1ccccc1CNC(=O)c1ccc(-c2no...   \n",
       "1       CNC(=O)[C@H](CCc1ccccc1)NC(=O)CN1C(=O)[C@@H](N...   \n",
       "2       CNC(=O)c1sc(C2CCN(C(=O)[C@H](CC3CCCCC3)NCc3csc...   \n",
       "3       CNC(=O)c1cccc(CNC(=O)[C@H](CC2CCCCC2)NC(=O)c2c...   \n",
       "4       CNC(=O)[C@@H](CNC(=O)C1CN(C(=O)CCOC)CCO1)NC(=O...   \n",
       "...                                                   ...   \n",
       "999995  CNC(=O)[C@H](CCNC(=O)[C@H](COCc1ccccc1)NC(=O)c...   \n",
       "999996  CNC(=O)[C@H](CNC(=O)[C@@H](NC(=O)c1ccc(C)cc1C(...   \n",
       "999997  CNC(=O)[C@@H]1C[C@H](NC(=O)c2cn(C)cn2)CN1C(=O)...   \n",
       "999998  CNC(=O)[C@@H]1C[C@H](NC(=O)C(C)C)CN1C(=O)[C@@H...   \n",
       "999999  CNC(=O)[C@H](CCc1ccccc1)NC(=O)[C@H]1CCN(C(=O)C...   \n",
       "\n",
       "                                            molecule_hash  \\\n",
       "0       33531ebf0be8ba2787e85a03221df1b41a0512eaf09b1a...   \n",
       "1       519cddc9ad4ab8538ced2bcfbb17e034240c68b9cd52c4...   \n",
       "2       d385e4289ecf6fcce902738ee8ea9ab32c43c31107cc9c...   \n",
       "3       96075c4092ecbba0786c42c576606e70b25d72bcccdc82...   \n",
       "4       dbb42a3997dd44957450af19bb6a4f4f1ffbdef0beafe4...   \n",
       "...                                                   ...   \n",
       "999995  0547687f47dc15d9ed8d10df4aa30df20564515b57a616...   \n",
       "999996  085180dea9802b7a297c4aa646c144d9baeab62d30618c...   \n",
       "999997  447e9c511bda22e05d9828cdb66a3f8935d9c206a39fc2...   \n",
       "999998  622014205c66a863bc951508335eaf2ddc4f3871f41527...   \n",
       "999999  957010ed4663186e31fbb759fcd1ac3ab8c074d6683c7d...   \n",
       "\n",
       "                                         smiles_a  \\\n",
       "0          CNC(=O)[C@H](CN)NC(=O)c1ccc2[nH]ccc2c1   \n",
       "1                      CNC(=O)[C@@H](N)CCc1ccccc1   \n",
       "2                       CNC(=O)c1sc(C2CCNCC2)nc1C   \n",
       "3                             CNC(=O)c1cccc(CN)c1   \n",
       "4                 CNC(=O)[C@@H](CN)NC(=O)c1cccnc1   \n",
       "...                                           ...   \n",
       "999995                  CNC(=O)[C@H](CCN)N1CCCCC1   \n",
       "999996           CNC(=O)[C@H](CN)NC(=O)c1ccn(C)n1   \n",
       "999997  CNC(=O)[C@@H]1C[C@H](NC(=O)c2cn(C)cn2)CN1   \n",
       "999998       CNC(=O)[C@@H]1C[C@H](NC(=O)C(C)C)CN1   \n",
       "999999                 CNC(=O)[C@@H](N)CCc1ccccc1   \n",
       "\n",
       "                               smiles_b  \\\n",
       "0       CC1=NC(=NO1)C1=CC=C(C=C1)C(O)=O   \n",
       "1             OC(=O)CC1=CC(Cl)=C(O)C=C1   \n",
       "2                      BrC1=NC(C=O)=CS1   \n",
       "3              CN(C)C1=CC=CC(=C1)C(O)=O   \n",
       "4                            COCCC(O)=O   \n",
       "...                                 ...   \n",
       "999995   CC1=CC(=CC(=C1)C(F)(F)F)C(O)=O   \n",
       "999996   CC1=CC(=C(C=C1)C(O)=O)C(F)(F)F   \n",
       "999997             FC1=CC(F)=C(C=O)C=C1   \n",
       "999998          OC(=O)C1=CC=CC2=C1N=CN2   \n",
       "999999    CC(NC(=O)OCC1=CC=CC=C1)C(O)=O   \n",
       "\n",
       "                                                 smiles_c  seq_target_1  \\\n",
       "0             OC(=O)c1ccccc1CNC(=O)OCC1c2ccccc2-c2ccccc12           1.0   \n",
       "1       OC(=O)CN1c2ccccc2OC[C@H](NC(=O)OCC2c3ccccc3-c3...           5.0   \n",
       "2       OC(=O)[C@H](CC1CCCCC1)NC(=O)OCC1c2ccccc2-c2ccc...           1.0   \n",
       "3       OC(=O)[C@H](CC1CCCCC1)NC(=O)OCC1c2ccccc2-c2ccc...           2.0   \n",
       "4             OC(=O)C1CN(CCO1)C(=O)OCC1c2ccccc2-c2ccccc12           4.0   \n",
       "...                                                   ...           ...   \n",
       "999995  OC(=O)[C@H](COCc1ccccc1)NC(=O)OCC1c2ccccc2-c2c...           1.0   \n",
       "999996  OC(=O)[C@@H](NC(=O)OCC1c2ccccc2-c2ccccc12)c1cc...           2.0   \n",
       "999997  OC(=O)[C@@H](Cc1cccc(Cl)c1)NC(=O)OCC1c2ccccc2-...           0.0   \n",
       "999998                  CC(C)(C)OC(=O)N1CC[C@H](C1)C(O)=O           1.0   \n",
       "999999                 CC(C)(C)OC(=O)N1CC[C@@H](C1)C(O)=O           0.0   \n",
       "\n",
       "        seq_target_2  seq_target_3  seq_matrix_1  seq_matrix_2  seq_matrix_3  \\\n",
       "0                6.0           2.0           0.0           4.0           1.0   \n",
       "1                9.0           7.0           1.0           1.0           1.0   \n",
       "2                2.0           2.0           0.0           0.0           0.0   \n",
       "3                2.0           4.0           1.0           3.0           0.0   \n",
       "4                1.0           2.0           1.0           2.0           0.0   \n",
       "...              ...           ...           ...           ...           ...   \n",
       "999995           0.0           3.0           0.0           0.0           0.0   \n",
       "999996           1.0           2.0           0.0           0.0           0.0   \n",
       "999997           0.0           4.0           0.0           0.0           0.0   \n",
       "999998           2.0           1.0           0.0           0.0           0.0   \n",
       "999999           3.0           4.0           1.0           1.0           0.0   \n",
       "\n",
       "        seq_load  target_enrichment  \\\n",
       "0             19           0.352696   \n",
       "1             12           1.482711   \n",
       "2              7           0.440103   \n",
       "3             19           0.337236   \n",
       "4             26           0.321008   \n",
       "...          ...                ...   \n",
       "999995        16           0.295446   \n",
       "999996        17           0.440103   \n",
       "999997        25           0.295446   \n",
       "999998        11           0.295446   \n",
       "999999        11           0.389548   \n",
       "\n",
       "                                         canonical_smiles    MolWt     LogP  \\\n",
       "0       CNC(=O)[C@H](CNC(=O)c1ccccc1CNC(=O)c1ccc(-c2no...  579.617  2.73072   \n",
       "1       CNC(=O)[C@H](CCc1ccccc1)NC(=O)CN1C(=O)[C@@H](N...  579.053  2.36210   \n",
       "2       CNC(=O)c1sc(C2CCN(C(=O)[C@H](CC3CCCCC3)NCc3csc...  568.607  4.86492   \n",
       "3       CNC(=O)c1cccc(CNC(=O)[C@H](CC2CCCCC2)NC(=O)c2c...  464.610  3.49740   \n",
       "4       CNC(=O)[C@@H](CNC(=O)C1CN(C(=O)CCOC)CCO1)NC(=O...  421.454 -1.69390   \n",
       "...                                                   ...      ...      ...   \n",
       "999995  CNC(=O)[C@H](CCNC(=O)[C@H](COCc1ccccc1)NC(=O)c...  562.633  3.43582   \n",
       "999996  CNC(=O)[C@H](CNC(=O)[C@@H](NC(=O)c1ccc(C)cc1C(...  544.534  1.87922   \n",
       "999997  CNC(=O)[C@@H]1C[C@H](NC(=O)c2cn(C)cn2)CN1C(=O)...  559.017  2.19810   \n",
       "999998  CNC(=O)[C@@H]1C[C@H](NC(=O)C(C)C)CN1C(=O)[C@@H...  454.531  0.51270   \n",
       "999999  CNC(=O)[C@H](CCc1ccccc1)NC(=O)[C@H]1CCN(C(=O)C...  494.592  2.01340   \n",
       "\n",
       "          TPSA  NumHDonors  NumHAcceptors  \n",
       "0       171.11           5              7  \n",
       "1       137.07           4              6  \n",
       "2        87.22           2              7  \n",
       "3        90.54           3              4  \n",
       "4       138.96           3              7  \n",
       "...        ...         ...            ...  \n",
       "999995   99.77           3              5  \n",
       "999996  134.22           4              6  \n",
       "999997  108.36           3              6  \n",
       "999998  127.50           3              5  \n",
       "999999  116.84           3              5  \n",
       "\n",
       "[1000000 rows x 19 columns]"
      ]
     },
     "execution_count": 20,
     "metadata": {},
     "output_type": "execute_result"
    }
   ],
   "source": [
    "ddr1_data"
   ]
  },
  {
   "cell_type": "code",
   "execution_count": 21,
   "metadata": {},
   "outputs": [
    {
     "name": "stdout",
     "output_type": "stream",
     "text": [
      "     MolWt     LogP    TPSA  NumHDonors  NumHAcceptors  target_enrichment\n",
      "0  579.617  2.73072  171.11           5              7           0.352696\n",
      "1  579.053  2.36210  137.07           4              6           1.482711\n",
      "2  568.607  4.86492   87.22           2              7           0.440103\n",
      "3  464.610  3.49740   90.54           3              4           0.337236\n",
      "4  421.454 -1.69390  138.96           3              7           0.321008\n"
     ]
    }
   ],
   "source": [
    "# Modeling will be done with 5 descriptors and the target enrichment as the target variable\n",
    "columns_to_extract = ['MolWt', 'LogP', 'TPSA', 'NumHDonors', 'NumHAcceptors', 'target_enrichment']\n",
    "\n",
    "# Extract the columns into a new DataFrame\n",
    "selected_df = ddr1_data[columns_to_extract]\n",
    "\n",
    "# Display the first few rows of the new DataFrame\n",
    "print(selected_df.head())\n",
    "\n",
    "# Optionally save the new DataFrame to a file\n",
    "selected_df.to_parquet(\"ddr1_selected_data.parquet\", index=False)\n"
   ]
  }
 ],
 "metadata": {
  "kernelspec": {
   "display_name": "chemistry",
   "language": "python",
   "name": "python3"
  },
  "language_info": {
   "codemirror_mode": {
    "name": "ipython",
    "version": 3
   },
   "file_extension": ".py",
   "mimetype": "text/x-python",
   "name": "python",
   "nbconvert_exporter": "python",
   "pygments_lexer": "ipython3",
   "version": "3.9.16"
  }
 },
 "nbformat": 4,
 "nbformat_minor": 2
}
